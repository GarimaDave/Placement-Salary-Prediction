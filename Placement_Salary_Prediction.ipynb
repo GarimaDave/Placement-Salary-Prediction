{
  "nbformat": 4,
  "nbformat_minor": 0,
  "metadata": {
    "colab": {
      "name": "Placement_Salary_Prediction.ipynb",
      "provenance": []
    },
    "kernelspec": {
      "name": "python3",
      "display_name": "Python 3"
    },
    "accelerator": "GPU"
  },
  "cells": [
    {
      "cell_type": "code",
      "metadata": {
        "id": "GkIbRkrxY9Ng",
        "colab_type": "code",
        "colab": {}
      },
      "source": [
        "import joblib \n",
        "import numpy as np\n",
        "import pandas as pd\n",
        "from sklearn.svm import SVC,SVR\n",
        "from sklearn.pipeline import make_pipeline \n",
        "from sklearn.metrics import confusion_matrix,mean_squared_error\n",
        "from sklearn.linear_model import LogisticRegression,LinearRegression\n",
        "from sklearn.ensemble import RandomForestClassifier,RandomForestRegressor\n",
        "from sklearn.preprocessing import LabelEncoder ,OneHotEncoder  ,StandardScaler\n",
        "from sklearn.model_selection import train_test_split,cross_val_score,GridSearchCV"
      ],
      "execution_count": null,
      "outputs": []
    },
    {
      "cell_type": "code",
      "metadata": {
        "id": "iaR3BesGo1vb",
        "colab_type": "code",
        "colab": {
          "base_uri": "https://localhost:8080/",
          "height": 204
        },
        "outputId": "63d5b6aa-f24a-4024-ee94-7a16bac94c3e"
      },
      "source": [
        "data = pd.read_csv('./Placement_Data_Full_Class.csv').drop(columns = ['sl_no', 'ssc_b','hsc_b','specialisation','mba_p'])\n",
        "# data.head()"
      ],
      "execution_count": null,
      "outputs": [
        {
          "output_type": "execute_result",
          "data": {
            "text/html": [
              "<div>\n",
              "<style scoped>\n",
              "    .dataframe tbody tr th:only-of-type {\n",
              "        vertical-align: middle;\n",
              "    }\n",
              "\n",
              "    .dataframe tbody tr th {\n",
              "        vertical-align: top;\n",
              "    }\n",
              "\n",
              "    .dataframe thead th {\n",
              "        text-align: right;\n",
              "    }\n",
              "</style>\n",
              "<table border=\"1\" class=\"dataframe\">\n",
              "  <thead>\n",
              "    <tr style=\"text-align: right;\">\n",
              "      <th></th>\n",
              "      <th>gender</th>\n",
              "      <th>ssc_p</th>\n",
              "      <th>hsc_p</th>\n",
              "      <th>hsc_s</th>\n",
              "      <th>degree_p</th>\n",
              "      <th>degree_t</th>\n",
              "      <th>workex</th>\n",
              "      <th>etest_p</th>\n",
              "      <th>status</th>\n",
              "      <th>salary</th>\n",
              "    </tr>\n",
              "  </thead>\n",
              "  <tbody>\n",
              "    <tr>\n",
              "      <th>0</th>\n",
              "      <td>M</td>\n",
              "      <td>67.00</td>\n",
              "      <td>91.00</td>\n",
              "      <td>Commerce</td>\n",
              "      <td>58.00</td>\n",
              "      <td>Sci&amp;Tech</td>\n",
              "      <td>No</td>\n",
              "      <td>55.0</td>\n",
              "      <td>Placed</td>\n",
              "      <td>270000.0</td>\n",
              "    </tr>\n",
              "    <tr>\n",
              "      <th>1</th>\n",
              "      <td>M</td>\n",
              "      <td>79.33</td>\n",
              "      <td>78.33</td>\n",
              "      <td>Science</td>\n",
              "      <td>77.48</td>\n",
              "      <td>Sci&amp;Tech</td>\n",
              "      <td>Yes</td>\n",
              "      <td>86.5</td>\n",
              "      <td>Placed</td>\n",
              "      <td>200000.0</td>\n",
              "    </tr>\n",
              "    <tr>\n",
              "      <th>2</th>\n",
              "      <td>M</td>\n",
              "      <td>65.00</td>\n",
              "      <td>68.00</td>\n",
              "      <td>Arts</td>\n",
              "      <td>64.00</td>\n",
              "      <td>Comm&amp;Mgmt</td>\n",
              "      <td>No</td>\n",
              "      <td>75.0</td>\n",
              "      <td>Placed</td>\n",
              "      <td>250000.0</td>\n",
              "    </tr>\n",
              "    <tr>\n",
              "      <th>3</th>\n",
              "      <td>M</td>\n",
              "      <td>56.00</td>\n",
              "      <td>52.00</td>\n",
              "      <td>Science</td>\n",
              "      <td>52.00</td>\n",
              "      <td>Sci&amp;Tech</td>\n",
              "      <td>No</td>\n",
              "      <td>66.0</td>\n",
              "      <td>Not Placed</td>\n",
              "      <td>NaN</td>\n",
              "    </tr>\n",
              "    <tr>\n",
              "      <th>4</th>\n",
              "      <td>M</td>\n",
              "      <td>85.80</td>\n",
              "      <td>73.60</td>\n",
              "      <td>Commerce</td>\n",
              "      <td>73.30</td>\n",
              "      <td>Comm&amp;Mgmt</td>\n",
              "      <td>No</td>\n",
              "      <td>96.8</td>\n",
              "      <td>Placed</td>\n",
              "      <td>425000.0</td>\n",
              "    </tr>\n",
              "  </tbody>\n",
              "</table>\n",
              "</div>"
            ],
            "text/plain": [
              "  gender  ssc_p  hsc_p     hsc_s  ...  workex etest_p      status    salary\n",
              "0      M  67.00  91.00  Commerce  ...      No    55.0      Placed  270000.0\n",
              "1      M  79.33  78.33   Science  ...     Yes    86.5      Placed  200000.0\n",
              "2      M  65.00  68.00      Arts  ...      No    75.0      Placed  250000.0\n",
              "3      M  56.00  52.00   Science  ...      No    66.0  Not Placed       NaN\n",
              "4      M  85.80  73.60  Commerce  ...      No    96.8      Placed  425000.0\n",
              "\n",
              "[5 rows x 10 columns]"
            ]
          },
          "metadata": {
            "tags": []
          },
          "execution_count": 4
        }
      ]
    },
    {
      "cell_type": "code",
      "metadata": {
        "id": "YPjpa2ZsuV-E",
        "colab_type": "code",
        "colab": {
          "base_uri": "https://localhost:8080/",
          "height": 136
        },
        "outputId": "56b7f06a-88c7-4fe9-d523-4e81eb94db31"
      },
      "source": [
        "print('Categories of various parameters :-')\n",
        "print('_'*64)\n",
        "print()\n",
        "print('1. Gender :',', '.join(data['gender'].unique().tolist()))\n",
        "print('2. Under-graduate stream of degree: ',', '.join(data['degree_t'].unique().tolist()))\n",
        "print('3. HSC Board stream of Education: ',', '.join(data['hsc_s'].unique().tolist()))\n",
        "print('4. Salary range of placed candidates: ',data['salary'].min(),'₹ -',data['salary'].max(),'₹')"
      ],
      "execution_count": null,
      "outputs": [
        {
          "output_type": "stream",
          "text": [
            "Categories of various parameters :-\n",
            "________________________________________________________________\n",
            "\n",
            "1. Gender : M, F\n",
            "2. Under-graduate stream of degree:  Sci&Tech, Comm&Mgmt, Others\n",
            "3. HSC Board stream of Education:  Commerce, Science, Arts\n",
            "4. Salary range of placed candidates:  200000.0 ₹ - 940000.0 ₹\n"
          ],
          "name": "stdout"
        }
      ]
    },
    {
      "cell_type": "code",
      "metadata": {
        "id": "Hvinkyvic-tK",
        "colab_type": "code",
        "colab": {}
      },
      "source": [
        "data['gender'].replace(['F','M'],[0,1],inplace=True)\n",
        "data['workex'].replace(['No','Yes'],[0,1],inplace=True)\n",
        "data['status'].replace(['Not Placed','Placed'],[0,1],inplace=True)"
      ],
      "execution_count": null,
      "outputs": []
    },
    {
      "cell_type": "code",
      "metadata": {
        "id": "fIlo3x6BgSd3",
        "colab_type": "code",
        "colab": {
          "base_uri": "https://localhost:8080/",
          "height": 204
        },
        "outputId": "57644956-7ca2-4ab8-cf50-abcb03d34ad0"
      },
      "source": [
        "label_encoder = LabelEncoder()\n",
        "onehot_encoder = OneHotEncoder(sparse=False)\n",
        "\n",
        "integer_encoded = label_encoder.fit_transform(np.array(data['degree_t']))\n",
        "integer_encoded = integer_encoded.reshape(len(integer_encoded), 1)\n",
        "onehot_encoded = pd.DataFrame(onehot_encoder.fit_transform(integer_encoded),columns=['Comm&Mgmt','Others','Sci&Tech'])\n",
        "\n",
        "data = pd.concat([data, onehot_encoded], axis=1)\n",
        "\n",
        "label_encoder = LabelEncoder()\n",
        "onehot_encoder = OneHotEncoder(sparse=False)\n",
        "\n",
        "integer_encoded = label_encoder.fit_transform(np.array(data['hsc_s']))\n",
        "integer_encoded = integer_encoded.reshape(len(integer_encoded), 1)\n",
        "onehot_encoded = pd.DataFrame(onehot_encoder.fit_transform(integer_encoded),columns=['Arts','Commerce','Science'])\n",
        "\n",
        "data = pd.concat([data, onehot_encoded], axis=1)\n",
        "\n",
        "data.drop(['hsc_s','degree_t'],axis=1,inplace=True)\n",
        "# data.head()"
      ],
      "execution_count": null,
      "outputs": [
        {
          "output_type": "execute_result",
          "data": {
            "text/html": [
              "<div>\n",
              "<style scoped>\n",
              "    .dataframe tbody tr th:only-of-type {\n",
              "        vertical-align: middle;\n",
              "    }\n",
              "\n",
              "    .dataframe tbody tr th {\n",
              "        vertical-align: top;\n",
              "    }\n",
              "\n",
              "    .dataframe thead th {\n",
              "        text-align: right;\n",
              "    }\n",
              "</style>\n",
              "<table border=\"1\" class=\"dataframe\">\n",
              "  <thead>\n",
              "    <tr style=\"text-align: right;\">\n",
              "      <th></th>\n",
              "      <th>gender</th>\n",
              "      <th>ssc_p</th>\n",
              "      <th>hsc_p</th>\n",
              "      <th>degree_p</th>\n",
              "      <th>workex</th>\n",
              "      <th>etest_p</th>\n",
              "      <th>status</th>\n",
              "      <th>salary</th>\n",
              "      <th>Comm&amp;Mgmt</th>\n",
              "      <th>Others</th>\n",
              "      <th>Sci&amp;Tech</th>\n",
              "      <th>Arts</th>\n",
              "      <th>Commerce</th>\n",
              "      <th>Science</th>\n",
              "    </tr>\n",
              "  </thead>\n",
              "  <tbody>\n",
              "    <tr>\n",
              "      <th>0</th>\n",
              "      <td>1</td>\n",
              "      <td>67.00</td>\n",
              "      <td>91.00</td>\n",
              "      <td>58.00</td>\n",
              "      <td>0</td>\n",
              "      <td>55.0</td>\n",
              "      <td>1</td>\n",
              "      <td>270000.0</td>\n",
              "      <td>0.0</td>\n",
              "      <td>0.0</td>\n",
              "      <td>1.0</td>\n",
              "      <td>0.0</td>\n",
              "      <td>1.0</td>\n",
              "      <td>0.0</td>\n",
              "    </tr>\n",
              "    <tr>\n",
              "      <th>1</th>\n",
              "      <td>1</td>\n",
              "      <td>79.33</td>\n",
              "      <td>78.33</td>\n",
              "      <td>77.48</td>\n",
              "      <td>1</td>\n",
              "      <td>86.5</td>\n",
              "      <td>1</td>\n",
              "      <td>200000.0</td>\n",
              "      <td>0.0</td>\n",
              "      <td>0.0</td>\n",
              "      <td>1.0</td>\n",
              "      <td>0.0</td>\n",
              "      <td>0.0</td>\n",
              "      <td>1.0</td>\n",
              "    </tr>\n",
              "    <tr>\n",
              "      <th>2</th>\n",
              "      <td>1</td>\n",
              "      <td>65.00</td>\n",
              "      <td>68.00</td>\n",
              "      <td>64.00</td>\n",
              "      <td>0</td>\n",
              "      <td>75.0</td>\n",
              "      <td>1</td>\n",
              "      <td>250000.0</td>\n",
              "      <td>1.0</td>\n",
              "      <td>0.0</td>\n",
              "      <td>0.0</td>\n",
              "      <td>1.0</td>\n",
              "      <td>0.0</td>\n",
              "      <td>0.0</td>\n",
              "    </tr>\n",
              "    <tr>\n",
              "      <th>3</th>\n",
              "      <td>1</td>\n",
              "      <td>56.00</td>\n",
              "      <td>52.00</td>\n",
              "      <td>52.00</td>\n",
              "      <td>0</td>\n",
              "      <td>66.0</td>\n",
              "      <td>0</td>\n",
              "      <td>NaN</td>\n",
              "      <td>0.0</td>\n",
              "      <td>0.0</td>\n",
              "      <td>1.0</td>\n",
              "      <td>0.0</td>\n",
              "      <td>0.0</td>\n",
              "      <td>1.0</td>\n",
              "    </tr>\n",
              "    <tr>\n",
              "      <th>4</th>\n",
              "      <td>1</td>\n",
              "      <td>85.80</td>\n",
              "      <td>73.60</td>\n",
              "      <td>73.30</td>\n",
              "      <td>0</td>\n",
              "      <td>96.8</td>\n",
              "      <td>1</td>\n",
              "      <td>425000.0</td>\n",
              "      <td>1.0</td>\n",
              "      <td>0.0</td>\n",
              "      <td>0.0</td>\n",
              "      <td>0.0</td>\n",
              "      <td>1.0</td>\n",
              "      <td>0.0</td>\n",
              "    </tr>\n",
              "  </tbody>\n",
              "</table>\n",
              "</div>"
            ],
            "text/plain": [
              "   gender  ssc_p  hsc_p  degree_p  ...  Sci&Tech  Arts  Commerce  Science\n",
              "0       1  67.00  91.00     58.00  ...       1.0   0.0       1.0      0.0\n",
              "1       1  79.33  78.33     77.48  ...       1.0   0.0       0.0      1.0\n",
              "2       1  65.00  68.00     64.00  ...       0.0   1.0       0.0      0.0\n",
              "3       1  56.00  52.00     52.00  ...       1.0   0.0       0.0      1.0\n",
              "4       1  85.80  73.60     73.30  ...       0.0   0.0       1.0      0.0\n",
              "\n",
              "[5 rows x 14 columns]"
            ]
          },
          "metadata": {
            "tags": []
          },
          "execution_count": 7
        }
      ]
    },
    {
      "cell_type": "code",
      "metadata": {
        "id": "OLZngU7Vpgcl",
        "colab_type": "code",
        "colab": {}
      },
      "source": [
        "data['salary'].fillna(0, inplace=True)\n",
        "y1 = data['status']\n",
        "y2 = data['salary']\n",
        "data.drop(columns = ['status','salary'], inplace=True)"
      ],
      "execution_count": null,
      "outputs": []
    },
    {
      "cell_type": "code",
      "metadata": {
        "id": "UrokMPyOvC3_",
        "colab_type": "code",
        "colab": {}
      },
      "source": [
        "X_train, X_test, y1_train, y1_test = train_test_split(data, y1, test_size=0.2, random_state=42) "
      ],
      "execution_count": null,
      "outputs": []
    },
    {
      "cell_type": "code",
      "metadata": {
        "id": "3WcoATi_qZHV",
        "colab_type": "code",
        "colab": {
          "base_uri": "https://localhost:8080/",
          "height": 51
        },
        "outputId": "ecdb92bc-34b1-4b96-999c-fe10f288e4c2"
      },
      "source": [
        "rfc = RandomForestClassifier(max_depth=2, random_state=0)\n",
        "rfc.fit(X_train,y1_train)\n",
        "y1_pred = rfc.predict(X_test)\n",
        "confusion_matrix(y1_test,y1_pred)"
      ],
      "execution_count": null,
      "outputs": [
        {
          "output_type": "execute_result",
          "data": {
            "text/plain": [
              "array([[ 4,  8],\n",
              "       [ 2, 29]])"
            ]
          },
          "metadata": {
            "tags": []
          },
          "execution_count": 10
        }
      ]
    },
    {
      "cell_type": "code",
      "metadata": {
        "id": "r3qcFC8WvobM",
        "colab_type": "code",
        "colab": {
          "base_uri": "https://localhost:8080/",
          "height": 289
        },
        "outputId": "2e698590-6263-4871-ea44-813757783079"
      },
      "source": [
        "params = {\n",
        "    'n_estimators' : [100,200,300,400,500,600,700,800,900,1000] ,\n",
        "    'max_depth' : [4,5,6,7,8], \n",
        "    'min_samples_split' : [2,5,10], \n",
        "    'min_samples_leaf' : [1,2,4], \n",
        "    'max_features' : [2,3,4],\n",
        "}\n",
        "\n",
        "grid_search = GridSearchCV(estimator = rfc, param_grid = params, cv = 5, n_jobs = -1, verbose = 2)\n",
        "grid_search.fit(X_train,y1_train)\n",
        "\n",
        "print(grid_search.best_params_)"
      ],
      "execution_count": null,
      "outputs": [
        {
          "output_type": "stream",
          "text": [
            "Fitting 5 folds for each of 1350 candidates, totalling 6750 fits\n"
          ],
          "name": "stdout"
        },
        {
          "output_type": "stream",
          "text": [
            "[Parallel(n_jobs=-1)]: Using backend LokyBackend with 2 concurrent workers.\n",
            "[Parallel(n_jobs=-1)]: Done  37 tasks      | elapsed:   23.8s\n",
            "[Parallel(n_jobs=-1)]: Done 158 tasks      | elapsed:  2.0min\n",
            "[Parallel(n_jobs=-1)]: Done 361 tasks      | elapsed:  4.6min\n",
            "[Parallel(n_jobs=-1)]: Done 644 tasks      | elapsed:  8.2min\n",
            "[Parallel(n_jobs=-1)]: Done 1009 tasks      | elapsed: 12.9min\n",
            "[Parallel(n_jobs=-1)]: Done 1454 tasks      | elapsed: 18.7min\n",
            "[Parallel(n_jobs=-1)]: Done 1981 tasks      | elapsed: 25.4min\n",
            "[Parallel(n_jobs=-1)]: Done 2588 tasks      | elapsed: 33.2min\n",
            "[Parallel(n_jobs=-1)]: Done 3277 tasks      | elapsed: 42.1min\n",
            "[Parallel(n_jobs=-1)]: Done 4046 tasks      | elapsed: 52.2min\n",
            "[Parallel(n_jobs=-1)]: Done 4897 tasks      | elapsed: 63.1min\n",
            "[Parallel(n_jobs=-1)]: Done 5828 tasks      | elapsed: 75.1min\n",
            "[Parallel(n_jobs=-1)]: Done 6750 out of 6750 | elapsed: 87.2min finished\n"
          ],
          "name": "stderr"
        },
        {
          "output_type": "stream",
          "text": [
            "{'max_depth': 5, 'max_features': 2, 'min_samples_leaf': 1, 'min_samples_split': 5, 'n_estimators': 500}\n"
          ],
          "name": "stdout"
        }
      ]
    },
    {
      "cell_type": "code",
      "metadata": {
        "id": "TPNbXctUFDP1",
        "colab_type": "code",
        "colab": {
          "base_uri": "https://localhost:8080/",
          "height": 51
        },
        "outputId": "d0e1d026-3682-4213-e53b-e63fb7fcb4b3"
      },
      "source": [
        "rfc = RandomForestClassifier(max_depth= 5, max_features=2, min_samples_leaf= 1, min_samples_split= 5, n_estimators= 500)\n",
        "rfc.fit(X_train,y1_train)\n",
        "y1_pred = rfc.predict(X_test)\n",
        "confusion_matrix(y1_test,y1_pred)"
      ],
      "execution_count": null,
      "outputs": [
        {
          "output_type": "execute_result",
          "data": {
            "text/plain": [
              "array([[ 4,  8],\n",
              "       [ 2, 29]])"
            ]
          },
          "metadata": {
            "tags": []
          },
          "execution_count": 12
        }
      ]
    },
    {
      "cell_type": "code",
      "metadata": {
        "id": "2MLIQvsQvzny",
        "colab_type": "code",
        "colab": {
          "base_uri": "https://localhost:8080/",
          "height": 51
        },
        "outputId": "d0337c4a-674c-44bf-a64c-3aac30ee8138"
      },
      "source": [
        "svc = make_pipeline(StandardScaler(), SVC(gamma='auto'))\n",
        "svc.fit(X_train, y1_train)\n",
        "y1_pred2 = svc.predict(X_test)\n",
        "confusion_matrix(y1_test,y1_pred2)"
      ],
      "execution_count": null,
      "outputs": [
        {
          "output_type": "execute_result",
          "data": {
            "text/plain": [
              "array([[ 6,  6],\n",
              "       [ 2, 29]])"
            ]
          },
          "metadata": {
            "tags": []
          },
          "execution_count": 13
        }
      ]
    },
    {
      "cell_type": "code",
      "metadata": {
        "id": "HbODBYpgD6X1",
        "colab_type": "code",
        "colab": {
          "base_uri": "https://localhost:8080/",
          "height": 51
        },
        "outputId": "c8e176bf-3287-4920-ef19-388e5ee791b2"
      },
      "source": [
        "lr = make_pipeline(StandardScaler(), LogisticRegression())\n",
        "lr.fit(X_train, y1_train)\n",
        "y1_pred3 = svc.predict(X_test)\n",
        "confusion_matrix(y1_test,y1_pred3)"
      ],
      "execution_count": null,
      "outputs": [
        {
          "output_type": "execute_result",
          "data": {
            "text/plain": [
              "array([[ 6,  6],\n",
              "       [ 2, 29]])"
            ]
          },
          "metadata": {
            "tags": []
          },
          "execution_count": 14
        }
      ]
    },
    {
      "cell_type": "code",
      "metadata": {
        "id": "0rJ0ob6vGUEw",
        "colab_type": "code",
        "colab": {
          "base_uri": "https://localhost:8080/",
          "height": 51
        },
        "outputId": "8b1a6e7f-8114-45d3-c7a3-2bb274ad9cfc"
      },
      "source": [
        "joblib.dump(svc, 'svc.pkl') \n",
        "svc = joblib.load('svc.pkl')  \n",
        "svc.predict(X_test) "
      ],
      "execution_count": null,
      "outputs": [
        {
          "output_type": "execute_result",
          "data": {
            "text/plain": [
              "array([1, 1, 1, 0, 1, 0, 0, 1, 1, 1, 1, 1, 0, 1, 1, 1, 1, 0, 0, 1, 1, 1,\n",
              "       1, 0, 1, 1, 0, 1, 1, 1, 1, 1, 1, 1, 1, 1, 1, 1, 1, 1, 1, 1, 1])"
            ]
          },
          "metadata": {
            "tags": []
          },
          "execution_count": 15
        }
      ]
    },
    {
      "cell_type": "code",
      "metadata": {
        "id": "BUjc6E0curAq",
        "colab_type": "code",
        "colab": {}
      },
      "source": [
        "y2 = y2.fillna(0)\n",
        "X_train, X_test, y2_train, y2_test = train_test_split(data, y2, test_size=0.2, random_state=42) "
      ],
      "execution_count": null,
      "outputs": []
    },
    {
      "cell_type": "code",
      "metadata": {
        "id": "wLlxbzBsooRo",
        "colab_type": "code",
        "colab": {
          "base_uri": "https://localhost:8080/",
          "height": 34
        },
        "outputId": "73ffba03-596b-4efe-80b4-1592ac693480"
      },
      "source": [
        "lr = LinearRegression()\n",
        "lr.fit(X_train,y2_train)\n",
        "y_pred = lr.predict(X_test)\n",
        "print('RMSE:', mean_squared_error(y2_test,y_pred)**0.5)"
      ],
      "execution_count": null,
      "outputs": [
        {
          "output_type": "stream",
          "text": [
            "RMSE: 121280.37835382161\n"
          ],
          "name": "stdout"
        }
      ]
    },
    {
      "cell_type": "code",
      "metadata": {
        "id": "98fPZR3irOX6",
        "colab_type": "code",
        "colab": {
          "base_uri": "https://localhost:8080/",
          "height": 34
        },
        "outputId": "bb8626f4-b920-4880-caf4-dbe26402a95f"
      },
      "source": [
        "rfr = RandomForestRegressor()\n",
        "rfr.fit(X_train,y2_train)\n",
        "y_pred = rfr.predict(X_test)\n",
        "print('RMSE:', mean_squared_error(y2_test,y_pred)**0.5)"
      ],
      "execution_count": null,
      "outputs": [
        {
          "output_type": "stream",
          "text": [
            "RMSE: 134503.82051286922\n"
          ],
          "name": "stdout"
        }
      ]
    },
    {
      "cell_type": "code",
      "metadata": {
        "id": "1yaLh8DBrhiT",
        "colab_type": "code",
        "colab": {
          "base_uri": "https://localhost:8080/",
          "height": 34
        },
        "outputId": "5103c794-bd38-4efd-ba84-ad03a78f8c38"
      },
      "source": [
        "svr = SVR()\n",
        "svr.fit(X_train,y2_train)\n",
        "y_pred = svr.predict(X_test)\n",
        "print('RMSE:', mean_squared_error(y2_test,y_pred)**0.5)"
      ],
      "execution_count": null,
      "outputs": [
        {
          "output_type": "stream",
          "text": [
            "RMSE: 152648.1123855088\n"
          ],
          "name": "stdout"
        }
      ]
    },
    {
      "cell_type": "code",
      "metadata": {
        "id": "1_lRyjcvrviz",
        "colab_type": "code",
        "colab": {
          "base_uri": "https://localhost:8080/",
          "height": 34
        },
        "outputId": "b51a38c9-f662-411d-f0f5-280b6fc7e625"
      },
      "source": [
        "a = np.array(X_test.iloc[0]).reshape(1,-1)\n",
        "if svc.predict(a)==0:\n",
        "  Salary = 0\n",
        "else :\n",
        "  Salary = lr.predict(a)\n",
        "print('Predicted Salary:', Salary)"
      ],
      "execution_count": null,
      "outputs": [
        {
          "output_type": "stream",
          "text": [
            "Predicted Salary: [193027.97822188]\n"
          ],
          "name": "stdout"
        }
      ]
    }
  ]
}